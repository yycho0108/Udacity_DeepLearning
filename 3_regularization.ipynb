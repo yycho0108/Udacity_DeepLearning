{
 "cells": [
  {
   "cell_type": "markdown",
   "metadata": {
    "colab_type": "text",
    "id": "kR-4eNdK6lYS"
   },
   "source": [
    "Deep Learning\n",
    "=============\n",
    "\n",
    "Assignment 3\n",
    "------------\n",
    "\n",
    "Previously in `2_fullyconnected.ipynb`, you trained a logistic regression and a neural network model.\n",
    "\n",
    "The goal of this assignment is to explore regularization techniques."
   ]
  },
  {
   "cell_type": "code",
   "execution_count": 1,
   "metadata": {
    "cellView": "both",
    "colab": {
     "autoexec": {
      "startup": false,
      "wait_interval": 0
     }
    },
    "colab_type": "code",
    "collapsed": true,
    "id": "JLpLa8Jt7Vu4"
   },
   "outputs": [],
   "source": [
    "# These are all the modules we'll be using later. Make sure you can import them\n",
    "# before proceeding further.\n",
    "from __future__ import print_function\n",
    "import numpy as np\n",
    "import tensorflow as tf\n",
    "from six.moves import cPickle as pickle"
   ]
  },
  {
   "cell_type": "markdown",
   "metadata": {
    "colab_type": "text",
    "id": "1HrCK6e17WzV"
   },
   "source": [
    "First reload the data we generated in _notmist.ipynb_."
   ]
  },
  {
   "cell_type": "code",
   "execution_count": 2,
   "metadata": {
    "cellView": "both",
    "colab": {
     "autoexec": {
      "startup": false,
      "wait_interval": 0
     },
     "output_extras": [
      {
       "item_id": 1
      }
     ]
    },
    "colab_type": "code",
    "collapsed": false,
    "executionInfo": {
     "elapsed": 11777,
     "status": "ok",
     "timestamp": 1449849322348,
     "user": {
      "color": "",
      "displayName": "",
      "isAnonymous": false,
      "isMe": true,
      "permissionId": "",
      "photoUrl": "",
      "sessionId": "0",
      "userId": ""
     },
     "user_tz": 480
    },
    "id": "y3-cj1bpmuxc",
    "outputId": "e03576f1-ebbe-4838-c388-f1777bcc9873"
   },
   "outputs": [
    {
     "name": "stdout",
     "output_type": "stream",
     "text": [
      "Training set (200000, 28, 28) (200000,)\n",
      "Validation set (10000, 28, 28) (10000,)\n",
      "Test set (10000, 28, 28) (10000,)\n"
     ]
    }
   ],
   "source": [
    "pickle_file = 'notMNIST.pickle'\n",
    "\n",
    "with open(pickle_file, 'rb') as f:\n",
    "  save = pickle.load(f)\n",
    "  train_dataset = save['train_dataset']\n",
    "  train_labels = save['train_labels']\n",
    "  valid_dataset = save['valid_dataset']\n",
    "  valid_labels = save['valid_labels']\n",
    "  test_dataset = save['test_dataset']\n",
    "  test_labels = save['test_labels']\n",
    "  del save  # hint to help gc free up memory\n",
    "  print('Training set', train_dataset.shape, train_labels.shape)\n",
    "  print('Validation set', valid_dataset.shape, valid_labels.shape)\n",
    "  print('Test set', test_dataset.shape, test_labels.shape)"
   ]
  },
  {
   "cell_type": "markdown",
   "metadata": {
    "colab_type": "text",
    "id": "L7aHrm6nGDMB"
   },
   "source": [
    "Reformat into a shape that's more adapted to the models we're going to train:\n",
    "- data as a flat matrix,\n",
    "- labels as float 1-hot encodings."
   ]
  },
  {
   "cell_type": "code",
   "execution_count": 3,
   "metadata": {
    "cellView": "both",
    "colab": {
     "autoexec": {
      "startup": false,
      "wait_interval": 0
     },
     "output_extras": [
      {
       "item_id": 1
      }
     ]
    },
    "colab_type": "code",
    "collapsed": false,
    "executionInfo": {
     "elapsed": 11728,
     "status": "ok",
     "timestamp": 1449849322356,
     "user": {
      "color": "",
      "displayName": "",
      "isAnonymous": false,
      "isMe": true,
      "permissionId": "",
      "photoUrl": "",
      "sessionId": "0",
      "userId": ""
     },
     "user_tz": 480
    },
    "id": "IRSyYiIIGIzS",
    "outputId": "3f8996ee-3574-4f44-c953-5c8a04636582"
   },
   "outputs": [
    {
     "name": "stdout",
     "output_type": "stream",
     "text": [
      "Training set (200000, 784) (200000, 10)\n",
      "Validation set (10000, 784) (10000, 10)\n",
      "Test set (10000, 784) (10000, 10)\n"
     ]
    }
   ],
   "source": [
    "image_size = 28\n",
    "num_labels = 10\n",
    "\n",
    "def reformat(dataset, labels):\n",
    "  dataset = dataset.reshape((-1, image_size * image_size)).astype(np.float32)\n",
    "  # Map 2 to [0.0, 1.0, 0.0 ...], 3 to [0.0, 0.0, 1.0 ...]\n",
    "  labels = (np.arange(num_labels) == labels[:,None]).astype(np.float32)\n",
    "  return dataset, labels\n",
    "train_dataset, train_labels = reformat(train_dataset, train_labels)\n",
    "valid_dataset, valid_labels = reformat(valid_dataset, valid_labels)\n",
    "test_dataset, test_labels = reformat(test_dataset, test_labels)\n",
    "print('Training set', train_dataset.shape, train_labels.shape)\n",
    "print('Validation set', valid_dataset.shape, valid_labels.shape)\n",
    "print('Test set', test_dataset.shape, test_labels.shape)"
   ]
  },
  {
   "cell_type": "code",
   "execution_count": 4,
   "metadata": {
    "cellView": "both",
    "colab": {
     "autoexec": {
      "startup": false,
      "wait_interval": 0
     }
    },
    "colab_type": "code",
    "collapsed": true,
    "id": "RajPLaL_ZW6w"
   },
   "outputs": [],
   "source": [
    "def accuracy(predictions, labels):\n",
    "  return (100.0 * np.sum(np.argmax(predictions, 1) == np.argmax(labels, 1))\n",
    "          / predictions.shape[0])"
   ]
  },
  {
   "cell_type": "markdown",
   "metadata": {
    "colab_type": "text",
    "id": "sgLbUAQ1CW-1"
   },
   "source": [
    "---\n",
    "Problem 1\n",
    "---------\n",
    "\n",
    "Introduce and tune L2 regularization for both logistic and neural network models. Remember that L2 amounts to adding a penalty on the norm of the weights to the loss. In TensorFlow, you can compute the L2 loss for a tensor `t` using `nn.l2_loss(t)`. The right amount of regularization should improve your validation / test accuracy.\n",
    "\n",
    "---"
   ]
  },
  {
   "cell_type": "code",
   "execution_count": 5,
   "metadata": {
    "collapsed": false
   },
   "outputs": [],
   "source": [
    "g = tf.Graph()\n",
    "batch_size = 128\n",
    "num_hidden = 1024\n",
    "\n",
    "decay = 0.01\n",
    "\n",
    "with g.as_default():\n",
    "    tf_train_dataset = tf.placeholder(tf.float32,shape=(batch_size,image_size*image_size))\n",
    "    tf_train_labels = tf.placeholder(tf.float32,shape=(batch_size,num_labels))\n",
    "    \n",
    "    tf_valid_dataset = tf.constant(valid_dataset)\n",
    "    tf_test_dataset = tf.constant(test_dataset)\n",
    "  \n",
    "    W_1 = tf.Variable(tf.truncated_normal([image_size*image_size, num_hidden]))\n",
    "    B_1 = tf.Variable(tf.zeros([num_hidden]))\n",
    "    \n",
    "    W_2 = tf.Variable(tf.truncated_normal([num_hidden, num_labels]))\n",
    "    B_2 = tf.Variable(tf.zeros([num_labels]))\n",
    "    \n",
    "    O_1 = tf.nn.relu(tf.matmul(tf_train_dataset,W_1) + B_1)\n",
    "    O_2 = tf.matmul(O_1,W_2) + B_2\n",
    "    \n",
    "    loss =  tf.reduce_mean(tf.nn.softmax_cross_entropy_with_logits(O_2, tf_train_labels)) \\\n",
    "        + decay * tf.nn.l2_loss(W_1) \\\n",
    "        + decay * tf.nn.l2_loss(W_2)\n",
    "        \n",
    "        \n",
    "    optimizer = tf.train.GradientDescentOptimizer(0.5).minimize(loss)\n",
    "    \n",
    "    train_prediction = tf.nn.softmax(O_2)\n",
    "    valid_prediction = tf.nn.softmax(\n",
    "        tf.matmul(tf.nn.relu(tf.matmul(tf_valid_dataset,W_1)+B_1),W_2) + B_2)\n",
    "    test_prediction = tf.nn.softmax(\n",
    "        tf.matmul(tf.nn.relu(tf.matmul(tf_test_dataset,W_1)+B_1),W_2) + B_2)"
   ]
  },
  {
   "cell_type": "code",
   "execution_count": 6,
   "metadata": {
    "collapsed": false
   },
   "outputs": [
    {
     "name": "stdout",
     "output_type": "stream",
     "text": [
      "Initialization Complete\n",
      "Minibatch loss at step 0: 3459.722656\n",
      "Minibatch accuracy: 8.6%\n",
      "Validation accuracy: 25.2%\n",
      "Minibatch loss at step 500: 21.192955\n",
      "Minibatch accuracy: 89.8%\n",
      "Validation accuracy: 83.8%\n",
      "Minibatch loss at step 1000: 1.063792\n",
      "Minibatch accuracy: 78.9%\n",
      "Validation accuracy: 82.8%\n",
      "Minibatch loss at step 1500: 0.735935\n",
      "Minibatch accuracy: 83.6%\n",
      "Validation accuracy: 83.7%\n",
      "Minibatch loss at step 2000: 0.808036\n",
      "Minibatch accuracy: 82.8%\n",
      "Validation accuracy: 83.5%\n",
      "Minibatch loss at step 2500: 0.750041\n",
      "Minibatch accuracy: 78.1%\n",
      "Validation accuracy: 83.5%\n",
      "Minibatch loss at step 3000: 0.675492\n",
      "Minibatch accuracy: 86.7%\n",
      "Validation accuracy: 83.2%\n",
      "Test accuracy: 89.8%\n"
     ]
    }
   ],
   "source": [
    "num_steps = 3001\n",
    "with tf.Session(graph=g) as session:\n",
    "    tf.initialize_all_variables().run()\n",
    "    print(\"Initialization Complete\")\n",
    "    for step in range(num_steps):\n",
    "        offset = (step * batch_size) % (train_labels.shape[0] - batch_size)\n",
    "        batch_data = train_dataset[offset:(offset + batch_size), :]\n",
    "        batch_labels = train_labels[offset:(offset + batch_size), :]\n",
    "        feed_dict = {tf_train_dataset : batch_data,\n",
    "                    tf_train_labels : batch_labels}\n",
    "        _,l,predictions = session.run([optimizer,loss,train_prediction], feed_dict=feed_dict)\n",
    "        if (step % 500 == 0):\n",
    "            print(\"Minibatch loss at step %d: %f\" % (step, l))\n",
    "            print(\"Minibatch accuracy: %.1f%%\" % accuracy(predictions, batch_labels))\n",
    "            print(\"Validation accuracy: %.1f%%\" % accuracy(valid_prediction.eval(), valid_labels))\n",
    "    print(\"Test accuracy: %.1f%%\" % accuracy(test_prediction.eval(), test_labels))"
   ]
  },
  {
   "cell_type": "markdown",
   "metadata": {
    "colab_type": "text",
    "id": "na8xX2yHZzNF"
   },
   "source": [
    "---\n",
    "Problem 2\n",
    "---------\n",
    "Let's demonstrate an extreme case of overfitting. Restrict your training data to just a few batches. What happens?\n",
    "\n",
    "---"
   ]
  },
  {
   "cell_type": "code",
   "execution_count": 7,
   "metadata": {
    "collapsed": false
   },
   "outputs": [
    {
     "name": "stdout",
     "output_type": "stream",
     "text": [
      "Initialization Complete\n",
      "Minibatch loss at step 0: 3484.982422\n",
      "Minibatch accuracy: 10.9%\n",
      "Validation accuracy: 31.1%\n",
      "Minibatch loss at step 500: 21.027145\n",
      "Minibatch accuracy: 100.0%\n",
      "Validation accuracy: 66.2%\n",
      "Minibatch loss at step 1000: 0.343473\n",
      "Minibatch accuracy: 100.0%\n",
      "Validation accuracy: 67.9%\n",
      "Test accuracy: 74.3%\n"
     ]
    }
   ],
   "source": [
    "num_steps = 1001\n",
    "with tf.Session(graph=g) as session:\n",
    "    tf.initialize_all_variables().run()\n",
    "    print(\"Initialization Complete\")\n",
    "    for step in range(num_steps):\n",
    "        offset = 0 #overfitting to data\n",
    "        batch_data = train_dataset[offset:(offset + batch_size), :]\n",
    "        batch_labels = train_labels[offset:(offset + batch_size), :]\n",
    "        feed_dict = {tf_train_dataset : batch_data,\n",
    "                    tf_train_labels : batch_labels}\n",
    "        _,l,predictions = session.run([optimizer,loss,train_prediction], feed_dict=feed_dict)\n",
    "        if (step % 500 == 0):\n",
    "            print(\"Minibatch loss at step %d: %f\" % (step, l))\n",
    "            print(\"Minibatch accuracy: %.1f%%\" % accuracy(predictions, batch_labels))\n",
    "            print(\"Validation accuracy: %.1f%%\" % accuracy(valid_prediction.eval(), valid_labels))\n",
    "    print(\"Test accuracy: %.1f%%\" % accuracy(test_prediction.eval(), test_labels))"
   ]
  },
  {
   "cell_type": "markdown",
   "metadata": {
    "colab_type": "text",
    "id": "ww3SCBUdlkRc"
   },
   "source": [
    "---\n",
    "Problem 3\n",
    "---------\n",
    "Introduce Dropout on the hidden layer of the neural network. Remember: Dropout should only be introduced during training, not evaluation, otherwise your evaluation results would be stochastic as well. TensorFlow provides `nn.dropout()` for that, but you have to make sure it's only inserted during training.\n",
    "\n",
    "What happens to our extreme overfitting case?\n",
    "\n",
    "---"
   ]
  },
  {
   "cell_type": "code",
   "execution_count": 8,
   "metadata": {
    "collapsed": true
   },
   "outputs": [],
   "source": [
    "g = tf.Graph()\n",
    "batch_size = 128\n",
    "num_hidden = 1024\n",
    "\n",
    "decay = 0.01\n",
    "\n",
    "with g.as_default():\n",
    "    tf_train_dataset = tf.placeholder(tf.float32,shape=(batch_size,image_size*image_size))\n",
    "    tf_train_labels = tf.placeholder(tf.float32,shape=(batch_size,num_labels))\n",
    "    \n",
    "    tf_valid_dataset = tf.constant(valid_dataset)\n",
    "    tf_test_dataset = tf.constant(test_dataset)\n",
    "  \n",
    "    W_1 = tf.Variable(tf.truncated_normal([image_size*image_size, num_hidden]))\n",
    "    B_1 = tf.Variable(tf.zeros([num_hidden]))\n",
    "    \n",
    "    W_2 = tf.Variable(tf.truncated_normal([num_hidden, num_labels]))\n",
    "    B_2 = tf.Variable(tf.zeros([num_labels]))\n",
    "    \n",
    "    O_1 = tf.nn.dropout(tf.nn.relu(tf.matmul(tf_train_dataset,W_1) + B_1), 0.5) #0.5 = probability of dropout\n",
    "    O_2 = tf.matmul(O_1,W_2) + B_2\n",
    "    \n",
    "    loss =  tf.reduce_mean(tf.nn.softmax_cross_entropy_with_logits(O_2, tf_train_labels)) \\\n",
    "        + decay * tf.nn.l2_loss(W_1) \\\n",
    "        + decay * tf.nn.l2_loss(W_2)\n",
    "        \n",
    "        \n",
    "    optimizer = tf.train.GradientDescentOptimizer(0.5).minimize(loss)\n",
    "    \n",
    "    train_prediction = tf.nn.softmax(O_2)\n",
    "    valid_prediction = tf.nn.softmax(\n",
    "        tf.matmul(tf.nn.relu(tf.matmul(tf_valid_dataset,W_1)+B_1),W_2) + B_2)\n",
    "    test_prediction = tf.nn.softmax(\n",
    "        tf.matmul(tf.nn.relu(tf.matmul(tf_test_dataset,W_1)+B_1),W_2) + B_2)"
   ]
  },
  {
   "cell_type": "code",
   "execution_count": 11,
   "metadata": {
    "collapsed": false
   },
   "outputs": [
    {
     "name": "stdout",
     "output_type": "stream",
     "text": [
      "Initialization Complete\n",
      "Minibatch loss at step 0: 3708.563477\n",
      "Minibatch accuracy: 10.2%\n",
      "Validation accuracy: 20.9%\n",
      "Minibatch loss at step 500: 21.045885\n",
      "Minibatch accuracy: 100.0%\n",
      "Validation accuracy: 65.8%\n",
      "Minibatch loss at step 1000: 0.358846\n",
      "Minibatch accuracy: 100.0%\n",
      "Validation accuracy: 68.7%\n",
      "Minibatch loss at step 1500: 0.206513\n",
      "Minibatch accuracy: 100.0%\n",
      "Validation accuracy: 68.8%\n",
      "Minibatch loss at step 2000: 0.198550\n",
      "Minibatch accuracy: 100.0%\n",
      "Validation accuracy: 69.1%\n",
      "Minibatch loss at step 2500: 0.199843\n",
      "Minibatch accuracy: 100.0%\n",
      "Validation accuracy: 69.3%\n",
      "Minibatch loss at step 3000: 0.193328\n",
      "Minibatch accuracy: 100.0%\n",
      "Validation accuracy: 69.6%\n",
      "Test accuracy: 76.3%\n"
     ]
    }
   ],
   "source": [
    "import random\n",
    "num_steps = 3001\n",
    "with tf.Session(graph=g) as session:\n",
    "    tf.initialize_all_variables().run()\n",
    "    print(\"Initialization Complete\")\n",
    "    for step in range(num_steps):\n",
    "        offset = random.choice([0,1,2]) #small pool, extreme overfitting\n",
    "        batch_data = train_dataset[offset:(offset + batch_size), :]\n",
    "        batch_labels = train_labels[offset:(offset + batch_size), :]\n",
    "        feed_dict = {tf_train_dataset : batch_data,\n",
    "                    tf_train_labels : batch_labels}\n",
    "        _,l,predictions = session.run([optimizer,loss,train_prediction], feed_dict=feed_dict)\n",
    "        if (step % 500 == 0):\n",
    "            print(\"Minibatch loss at step %d: %f\" % (step, l))\n",
    "            print(\"Minibatch accuracy: %.1f%%\" % accuracy(predictions, batch_labels))\n",
    "            print(\"Validation accuracy: %.1f%%\" % accuracy(valid_prediction.eval(), valid_labels))\n",
    "    print(\"Test accuracy: %.1f%%\" % accuracy(test_prediction.eval(), test_labels))"
   ]
  },
  {
   "cell_type": "markdown",
   "metadata": {
    "colab_type": "text",
    "id": "-b1hTz3VWZjw"
   },
   "source": [
    "---\n",
    "Problem 4\n",
    "---------\n",
    "\n",
    "Try to get the best performance you can using a multi-layer model! The best reported test accuracy using a deep network is [97.1%](http://yaroslavvb.blogspot.com/2011/09/notmnist-dataset.html?showComment=1391023266211#c8758720086795711595).\n",
    "\n",
    "One avenue you can explore is to add multiple layers.\n",
    "\n",
    "Another one is to use learning rate decay:\n",
    "\n",
    "    global_step = tf.Variable(0)  # count the number of steps taken.\n",
    "    learning_rate = tf.train.exponential_decay(0.5, global_step, ...)\n",
    "    optimizer = tf.train.GradientDescentOptimizer(learning_rate).minimize(loss, global_step=global_step)\n",
    " \n",
    " ---\n"
   ]
  },
  {
   "cell_type": "code",
   "execution_count": 20,
   "metadata": {
    "collapsed": false
   },
   "outputs": [],
   "source": [
    "g = tf.Graph()\n",
    "batch_size = 256\n",
    "num_hidden = 1024\n",
    "decay = 0.001\n",
    "dropout_p = 0.5\n",
    "num_steps = 10001\n",
    "\n",
    "def forward(X,W_1,B_1,W_2,B_2):\n",
    "    O_1 = tf.nn.relu(tf.matmul(X,W_1) + B_1)\n",
    "    O_2 = tf.matmul(O_1,W_2) + B_2\n",
    "    return O_2\n",
    "\n",
    "with g.as_default():\n",
    "    tf_batch_dataset = tf.placeholder(tf.float32,shape=(batch_size, image_size*image_size))\n",
    "    tf_batch_labels = tf.placeholder(tf.float32,shape=(batch_size, num_labels))\n",
    "    tf_valid_dataset = tf.constant(valid_dataset)\n",
    "    tf_test_dataset = tf.constant(test_dataset)\n",
    "    \n",
    "    W_1 = tf.Variable(tf.truncated_normal([image_size*image_size, num_hidden]))\n",
    "    B_1 = tf.Variable(tf.zeros([num_hidden]))\n",
    "    \n",
    "    W_2 = tf.Variable(tf.truncated_normal([num_hidden, num_labels]))\n",
    "    B_2 = tf.Variable(tf.zeros([num_labels]))\n",
    "    \n",
    "    O_1 = tf.nn.relu(tf.matmul(tf_batch_dataset, W_1) + B_1)\n",
    "    O_d = tf.nn.dropout(O_1, dropout_p)\n",
    "    O = tf.matmul(O_d, W_2) + B_2\n",
    "    global_step = tf.Variable(0)\n",
    "    \n",
    "    loss = tf.reduce_mean(tf.nn.softmax_cross_entropy_with_logits(O, tf_batch_labels)) + \\\n",
    "            decay * tf.nn.l2_loss(W_1) + \\\n",
    "            decay * tf.nn.l2_loss(W_2)\n",
    "    learning_rate = tf.train.exponential_decay(0.5,global_step,decay_steps = num_steps, decay_rate = 0.95)\n",
    "    #optimizer = tf.train.GradientDescentOptimizer(learning_rate).minimize(loss,global_step = global_step)\n",
    "    #optimizer = tf.train.AdagradOptimizer(learning_rate=0.1, initial_accumulator_value=0.1).minimize(loss)\n",
    "    optimizer = tf.train.AdadeltaOptimizer(learning_rate=0.5, rho=0.95, epsilon=1e-9).minimize(loss)\n",
    "    train_prediction = tf.nn.softmax(O)\n",
    "    valid_prediction = tf.nn.softmax(forward(tf_valid_dataset,W_1,B_1,W_2,B_2))\n",
    "    test_prediction = tf.nn.softmax(forward(tf_test_dataset,W_1,B_1,W_2,B_2))\n",
    "    "
   ]
  },
  {
   "cell_type": "code",
   "execution_count": 21,
   "metadata": {
    "collapsed": false
   },
   "outputs": [
    {
     "name": "stdout",
     "output_type": "stream",
     "text": [
      "Initialized\n",
      "Minibatch loss at step 0: 887.765808\n",
      "Minibatch accuracy: 8.6%\n",
      "Validation accuracy: 5.9%\n",
      "Minibatch loss at step 500: 199.483551\n",
      "Minibatch accuracy: 80.1%\n",
      "Validation accuracy: 81.8%\n",
      "Minibatch loss at step 1000: 119.544037\n",
      "Minibatch accuracy: 78.5%\n",
      "Validation accuracy: 80.1%\n",
      "Minibatch loss at step 1500: 70.808762\n",
      "Minibatch accuracy: 82.0%\n",
      "Validation accuracy: 83.2%\n",
      "Minibatch loss at step 2000: 43.106926\n",
      "Minibatch accuracy: 80.1%\n",
      "Validation accuracy: 84.3%\n",
      "Minibatch loss at step 2500: 26.484665\n",
      "Minibatch accuracy: 81.2%\n",
      "Validation accuracy: 85.2%\n",
      "Minibatch loss at step 3000: 16.169365\n",
      "Minibatch accuracy: 83.6%\n",
      "Validation accuracy: 85.9%\n",
      "Minibatch loss at step 3500: 10.067521\n",
      "Minibatch accuracy: 86.3%\n",
      "Validation accuracy: 86.9%\n",
      "Minibatch loss at step 4000: 6.289770\n",
      "Minibatch accuracy: 87.1%\n",
      "Validation accuracy: 87.1%\n",
      "Minibatch loss at step 4500: 4.008841\n",
      "Minibatch accuracy: 89.1%\n",
      "Validation accuracy: 87.6%\n",
      "Minibatch loss at step 5000: 2.682217\n",
      "Minibatch accuracy: 85.9%\n",
      "Validation accuracy: 87.5%\n",
      "Minibatch loss at step 5500: 1.865194\n",
      "Minibatch accuracy: 86.7%\n",
      "Validation accuracy: 87.9%\n",
      "Minibatch loss at step 6000: 1.348427\n",
      "Minibatch accuracy: 89.8%\n",
      "Validation accuracy: 88.2%\n",
      "Minibatch loss at step 6500: 0.954978\n",
      "Minibatch accuracy: 90.2%\n",
      "Validation accuracy: 88.3%\n",
      "Minibatch loss at step 7000: 0.804683\n",
      "Minibatch accuracy: 89.5%\n",
      "Validation accuracy: 88.2%\n",
      "Minibatch loss at step 7500: 0.655273\n",
      "Minibatch accuracy: 88.3%\n",
      "Validation accuracy: 88.5%\n",
      "Minibatch loss at step 8000: 0.635611\n",
      "Minibatch accuracy: 86.3%\n",
      "Validation accuracy: 88.3%\n",
      "Minibatch loss at step 8500: 0.626740\n",
      "Minibatch accuracy: 89.5%\n",
      "Validation accuracy: 88.5%\n",
      "Minibatch loss at step 9000: 0.648766\n",
      "Minibatch accuracy: 85.9%\n",
      "Validation accuracy: 88.5%\n",
      "Minibatch loss at step 9500: 0.587147\n",
      "Minibatch accuracy: 87.1%\n",
      "Validation accuracy: 88.5%\n",
      "Minibatch loss at step 10000: 0.535591\n",
      "Minibatch accuracy: 87.9%\n",
      "Validation accuracy: 88.6%\n",
      "Test accuracy: 94.1%\n"
     ]
    }
   ],
   "source": [
    "\n",
    "with tf.Session(graph=g) as session:\n",
    "    tf.initialize_all_variables().run()\n",
    "    print (\"Initialized\")\n",
    "    for step in range(num_steps):\n",
    "        #print(step)\n",
    "        indices = np.random.randint(train_dataset.shape[0], size=batch_size)\n",
    "        batch_dataset = train_dataset[indices]\n",
    "        batch_labels = train_labels[indices]\n",
    "        feed_dict = {tf_batch_dataset : batch_dataset, tf_batch_labels : batch_labels}\n",
    "        _,l,predictions = session.run([optimizer,loss,train_prediction], feed_dict = feed_dict)\n",
    "        if step % 500 == 0:\n",
    "            print(\"Minibatch loss at step %d: %f\" % (step, l))\n",
    "            print(\"Minibatch accuracy: %.1f%%\" % accuracy(predictions, batch_labels))\n",
    "            print(\"Validation accuracy: %.1f%%\" % accuracy(valid_prediction.eval(), valid_labels))\n",
    "    print(\"Test accuracy: %.1f%%\" % accuracy(test_prediction.eval(), test_labels))\n",
    "            "
   ]
  },
  {
   "cell_type": "code",
   "execution_count": null,
   "metadata": {
    "collapsed": true
   },
   "outputs": [],
   "source": []
  }
 ],
 "metadata": {
  "colab": {
   "default_view": {},
   "name": "3_regularization.ipynb",
   "provenance": [],
   "version": "0.3.2",
   "views": {}
  },
  "kernelspec": {
   "display_name": "Python 2",
   "language": "python",
   "name": "python2"
  },
  "language_info": {
   "codemirror_mode": {
    "name": "ipython",
    "version": 2
   },
   "file_extension": ".py",
   "mimetype": "text/x-python",
   "name": "python",
   "nbconvert_exporter": "python",
   "pygments_lexer": "ipython2",
   "version": "2.7.11+"
  }
 },
 "nbformat": 4,
 "nbformat_minor": 0
}
